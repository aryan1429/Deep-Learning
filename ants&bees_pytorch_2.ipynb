{
 "cells": [
  {
   "cell_type": "code",
   "execution_count": 23,
   "id": "957604c8",
   "metadata": {},
   "outputs": [],
   "source": [
    "import os\n",
    "import torch\n",
    "import torch.nn as nn\n",
    "import torch.optim as optim\n",
    "from torchvision import datasets,transforms,models\n",
    "from torch.utils.data import DataLoader"
   ]
  },
  {
   "cell_type": "code",
   "execution_count": 24,
   "id": "3aa5b13b",
   "metadata": {},
   "outputs": [],
   "source": [
    "transforms={'train':transforms.Compose([\n",
    "    transforms.ToTensor(),\n",
    "    transforms.RandomResizedCrop(128),\n",
    "    transforms.RandomHorizontalFlip(),\n",
    "    transforms.Normalize((0.5,0.5,0.5),(0.5,0.5,0.5))]),\n",
    "    'val':transforms.Compose([\n",
    "    transforms.ToTensor(),\n",
    "    transforms.RandomResizedCrop(128),\n",
    "    transforms.RandomHorizontalFlip(),\n",
    "    transforms.Normalize((0.5,0.5,0.5),(0.5,0.5,0.5))])\n",
    "}"
   ]
  },
  {
   "cell_type": "code",
   "execution_count": 25,
   "id": "033556f5",
   "metadata": {},
   "outputs": [],
   "source": [
    "data_dir='ants&bees/hymenoptera_data'\n",
    "#image_datasets={x:datasets.ImageFolder(os.path.join(data_dir,x),transform=transforms[x]) for x in ['train','val']}"
   ]
  },
  {
   "cell_type": "code",
   "execution_count": 26,
   "id": "4388067e",
   "metadata": {},
   "outputs": [],
   "source": [
    "image_datasets={}\n",
    "image_datasets['train']=datasets.ImageFolder(os.path.join(data_dir,'train'),transform=transforms['train'])\n",
    "image_datasets['val']=datasets.ImageFolder(os.path.join(data_dir,'val'),transform=transforms['val'])"
   ]
  },
  {
   "cell_type": "code",
   "execution_count": 27,
   "id": "26909c1f",
   "metadata": {},
   "outputs": [],
   "source": [
    "data_loader={}\n",
    "data_loader['train']=DataLoader(image_datasets['train'],batch_size=32,shuffle=True)\n",
    "data_loader['val']=DataLoader(image_datasets['val'],batch_size=32,shuffle=True)"
   ]
  },
  {
   "cell_type": "code",
   "execution_count": 32,
   "id": "5370f618",
   "metadata": {},
   "outputs": [
    {
     "name": "stdout",
     "output_type": "stream",
     "text": [
      "512\n"
     ]
    },
    {
     "ename": "AttributeError",
     "evalue": "'ResNet' object has no attribute 'layer5'",
     "output_type": "error",
     "traceback": [
      "\u001b[31m---------------------------------------------------------------------------\u001b[39m",
      "\u001b[31mAttributeError\u001b[39m                            Traceback (most recent call last)",
      "\u001b[36mCell\u001b[39m\u001b[36m \u001b[39m\u001b[32mIn[32]\u001b[39m\u001b[32m, line 6\u001b[39m\n\u001b[32m      4\u001b[39m model_ftrs=model.fc.in_features\n\u001b[32m      5\u001b[39m \u001b[38;5;28mprint\u001b[39m(model_ftrs)\n\u001b[32m----> \u001b[39m\u001b[32m6\u001b[39m \u001b[43mmodel\u001b[49m\u001b[43m.\u001b[49m\u001b[43mlayer5\u001b[49m.ft1=nn.Linear(model_ftrs,out_features=\u001b[32m256\u001b[39m)\n\u001b[32m      7\u001b[39m model.layer5.ft1=nn.Linear(\u001b[32m256\u001b[39m,out_features=\u001b[32m64\u001b[39m)\n\u001b[32m      8\u001b[39m model.layer5.ft3=nn.Linear(\u001b[32m64\u001b[39m,out_features=\u001b[32m64\u001b[39m)\n",
      "\u001b[36mFile \u001b[39m\u001b[32mc:\\Users\\aryan\\Desktop\\DL\\venv\\Lib\\site-packages\\torch\\nn\\modules\\module.py:1940\u001b[39m, in \u001b[36mModule.__getattr__\u001b[39m\u001b[34m(self, name)\u001b[39m\n\u001b[32m   1938\u001b[39m     \u001b[38;5;28;01mif\u001b[39;00m name \u001b[38;5;129;01min\u001b[39;00m modules:\n\u001b[32m   1939\u001b[39m         \u001b[38;5;28;01mreturn\u001b[39;00m modules[name]\n\u001b[32m-> \u001b[39m\u001b[32m1940\u001b[39m \u001b[38;5;28;01mraise\u001b[39;00m \u001b[38;5;167;01mAttributeError\u001b[39;00m(\n\u001b[32m   1941\u001b[39m     \u001b[33mf\u001b[39m\u001b[33m\"\u001b[39m\u001b[33m'\u001b[39m\u001b[38;5;132;01m{\u001b[39;00m\u001b[38;5;28mtype\u001b[39m(\u001b[38;5;28mself\u001b[39m).\u001b[34m__name__\u001b[39m\u001b[38;5;132;01m}\u001b[39;00m\u001b[33m'\u001b[39m\u001b[33m object has no attribute \u001b[39m\u001b[33m'\u001b[39m\u001b[38;5;132;01m{\u001b[39;00mname\u001b[38;5;132;01m}\u001b[39;00m\u001b[33m'\u001b[39m\u001b[33m\"\u001b[39m\n\u001b[32m   1942\u001b[39m )\n",
      "\u001b[31mAttributeError\u001b[39m: 'ResNet' object has no attribute 'layer5'"
     ]
    }
   ],
   "source": [
    "model=models.resnet18(pretrained=True)\n",
    "for param in model.parameters():\n",
    "    param.requires_grad = False\n",
    "model_ftrs=model.fc.in_features\n",
    "print(model_ftrs)\n",
    "model.ft1=nn.Linear(model_ftrs,out_features=256)\n",
    "#model.ft1=nn.Linear(256,out_features=64)\n",
    "#model.ft3=nn.Linear(64,out_features=64)\n",
    "#model.ft4=nn.Linear(16,out_features=2)\n",
    "#model_ft = nn.Linear(model_ftrs, 2)\n",
    "model.fc = model_ft\n",
    "criterion=nn.CrossEntropyLoss()\n",
    "optimizer=optim.Adam(model.fc.parameters(),lr=0.0001)"
   ]
  },
  {
   "cell_type": "code",
   "execution_count": null,
   "id": "c7baf216",
   "metadata": {},
   "outputs": [],
   "source": []
  },
  {
   "cell_type": "code",
   "execution_count": 29,
   "id": "45011469",
   "metadata": {},
   "outputs": [
    {
     "name": "stdout",
     "output_type": "stream",
     "text": [
      "0.6291686296463013\n",
      "0.8726115226745605\n",
      "0.8726115226745605\n",
      "0.6564096808433533\n",
      "0.6564096808433533\n",
      "0.6284950375556946\n",
      "0.6284950375556946\n",
      "0.630932629108429\n",
      "0.630932629108429\n",
      "0.6822341084480286\n",
      "0.6822341084480286\n",
      "0.5824231505393982\n",
      "0.5824231505393982\n",
      "0.5855318307876587\n",
      "0.5855318307876587\n",
      "0.6425969004631042\n",
      "0.6425969004631042\n",
      "0.516487717628479\n",
      "0.516487717628479\n",
      "0.4690670073032379\n",
      "0.4690670073032379\n",
      "0.6013079881668091\n",
      "0.6013079881668091\n",
      "0.6637712717056274\n",
      "0.6637712717056274\n",
      "0.5111202001571655\n",
      "0.5111202001571655\n",
      "0.47967857122421265\n",
      "0.47967857122421265\n",
      "0.6877382397651672\n",
      "0.6877382397651672\n",
      "0.6135419607162476\n",
      "0.6135419607162476\n",
      "0.6728205680847168\n",
      "0.6728205680847168\n",
      "0.46410736441612244\n",
      "0.46410736441612244\n",
      "0.46479135751724243\n",
      "0.46479135751724243\n",
      "0.5109883546829224\n",
      "0.5109883546829224\n",
      "0.3655836582183838\n",
      "0.3655836582183838\n",
      "0.5335046648979187\n",
      "0.5335046648979187\n",
      "0.5782132148742676\n",
      "0.5782132148742676\n",
      "0.3604215681552887\n",
      "0.3604215681552887\n",
      "0.3782963752746582\n",
      "0.3782963752746582\n",
      "0.6007561683654785\n",
      "0.6007561683654785\n",
      "0.41298413276672363\n",
      "0.41298413276672363\n",
      "0.3249827027320862\n",
      "0.3249827027320862\n",
      "0.35055986046791077\n",
      "0.35055986046791077\n",
      "0.5929988622665405\n",
      "0.5929988622665405\n",
      "0.4314959943294525\n",
      "0.4314959943294525\n",
      "0.36216235160827637\n",
      "0.36216235160827637\n",
      "0.4071921706199646\n",
      "0.4071921706199646\n",
      "0.35439029335975647\n",
      "0.35439029335975647\n",
      "0.3850477933883667\n",
      "0.3850477933883667\n",
      "0.40173429250717163\n",
      "0.40173429250717163\n",
      "0.30714207887649536\n",
      "0.30714207887649536\n",
      "0.288557231426239\n",
      "0.288557231426239\n",
      "0.43748602271080017\n",
      "0.43748602271080017\n",
      "0.29439690709114075\n",
      "0.29439690709114075\n",
      "0.3559451401233673\n",
      "0.3559451401233673\n",
      "0.5110272169113159\n",
      "0.5110272169113159\n",
      "0.3699509799480438\n",
      "0.3699509799480438\n",
      "0.3372191786766052\n",
      "0.3372191786766052\n",
      "0.3479310870170593\n",
      "0.3479310870170593\n",
      "0.43198126554489136\n",
      "0.43198126554489136\n",
      "0.2465134561061859\n",
      "0.2465134561061859\n",
      "0.3454664349555969\n",
      "0.3454664349555969\n",
      "0.3149416744709015\n",
      "0.3149416744709015\n",
      "0.3564198613166809\n",
      "0.3564198613166809\n",
      "0.2961118817329407\n",
      "0.2961118817329407\n",
      "0.31517910957336426\n",
      "0.31517910957336426\n",
      "0.26411330699920654\n",
      "0.26411330699920654\n",
      "0.26675719022750854\n",
      "0.26675719022750854\n",
      "0.21779337525367737\n",
      "0.21779337525367737\n",
      "0.23228566348552704\n",
      "0.23228566348552704\n",
      "0.43889832496643066\n",
      "0.43889832496643066\n",
      "0.21920791268348694\n",
      "0.21920791268348694\n",
      "0.34502169489860535\n",
      "0.34502169489860535\n",
      "0.24960723519325256\n",
      "0.24960723519325256\n",
      "0.4523076117038727\n",
      "0.4523076117038727\n",
      "0.20995572209358215\n",
      "0.20995572209358215\n",
      "0.3027302622795105\n",
      "0.3027302622795105\n",
      "0.43078312277793884\n",
      "0.43078312277793884\n",
      "0.288261741399765\n",
      "0.288261741399765\n",
      "0.5686373710632324\n",
      "0.5686373710632324\n",
      "0.312598317861557\n",
      "0.312598317861557\n",
      "0.37253350019454956\n",
      "0.37253350019454956\n",
      "0.38303273916244507\n",
      "0.38303273916244507\n",
      "0.28770366311073303\n",
      "0.28770366311073303\n",
      "0.4222339689731598\n",
      "0.4222339689731598\n",
      "0.3399711847305298\n",
      "0.3399711847305298\n",
      "0.3179621994495392\n",
      "0.3179621994495392\n",
      "0.21509139239788055\n",
      "0.21509139239788055\n"
     ]
    }
   ],
   "source": [
    "for epoch in range(75):\n",
    "    for input, label in data_loader['train']:\n",
    "        optimizer.zero_grad()\n",
    "        output = model(input)\n",
    "        loss = criterion(output, label)\n",
    "        loss.backward()\n",
    "        optimizer.step()\n",
    "    print(loss.item())"
   ]
  },
  {
   "cell_type": "code",
   "execution_count": 30,
   "id": "3689caa5",
   "metadata": {},
   "outputs": [
    {
     "name": "stdout",
     "output_type": "stream",
     "text": [
      "Accuracy: 83.66013071895425%\n"
     ]
    }
   ],
   "source": [
    "rrect=0\n",
    "    total=0\n",
    "    for input,label in data_loader['val']:\n",
    "        output=model(input)\n",
    "        _,predicted=torch.max(output.data,1)\n",
    "        total+=label.size(0)\n",
    "        correct+=(predicted==label).sum().item()\n",
    "    print('Accuracy: {}%'.format(100*correct/total))"
   ]
  },
  {
   "cell_type": "code",
   "execution_count": null,
   "id": "6f43e2de",
   "metadata": {},
   "outputs": [],
   "source": [
    "model = [models.]"
   ]
  }
 ],
 "metadata": {
  "kernelspec": {
   "display_name": "venv (3.11.4)",
   "language": "python",
   "name": "python3"
  },
  "language_info": {
   "codemirror_mode": {
    "name": "ipython",
    "version": 3
   },
   "file_extension": ".py",
   "mimetype": "text/x-python",
   "name": "python",
   "nbconvert_exporter": "python",
   "pygments_lexer": "ipython3",
   "version": "3.11.4"
  }
 },
 "nbformat": 4,
 "nbformat_minor": 5
}
