{
  "nbformat": 4,
  "nbformat_minor": 0,
  "metadata": {
    "colab": {
      "provenance": [],
      "toc_visible": true
    },
    "kernelspec": {
      "name": "python3",
      "display_name": "Python 3"
    },
    "language_info": {
      "name": "python"
    }
  },
  "cells": [
    {
      "cell_type": "code",
      "source": [
        "import torch\n",
        "import torch.nn as nn\n",
        "import torch.optim as optim\n",
        "import torchvision\n",
        "from torchvision import datasets,transforms,models\n",
        "from torch.utils.data import DataLoader"
      ],
      "metadata": {
        "id": "zQo77olKkkFx"
      },
      "execution_count": 13,
      "outputs": []
    },
    {
      "cell_type": "code",
      "execution_count": null,
      "metadata": {
        "id": "e5h-o9C7jV3p"
      },
      "outputs": [],
      "source": [
        "transform ={'train' : transforms.Compose([\n",
        "    transforms.ToTensor(),\n",
        "    transforms.RandomResizedCrop(150),\n",
        "    transforms.RandomHorizontalFlip(),\n",
        "    transforms.Normalize((0.5,0.5,0.5),(0.5,0.5,0.5))]),\n",
        "    'val' : transforms.Compose([\n",
        "    transforms.ToTensor(),\n",
        "    transforms.RandomResizedCrop(150),\n",
        "    transforms.RandomHorizontalFlip(),\n",
        "    transforms.Normalize((0.5,0.5,0.5),(0.5,0.5,0.5))])\n",
        "}\n",
        "\n"
      ]
    },
    {
      "cell_type": "code",
      "source": [
        "data_dir = 'dataset path'\n"
      ],
      "metadata": {
        "id": "3W_xNWvjoHZO"
      },
      "execution_count": null,
      "outputs": []
    },
    {
      "cell_type": "code",
      "source": [
        "image_datsets = {x:datasets.ImageFolder(os.path.join(data_dir,x),transform[x]) for x in ['train','val']}"
      ],
      "metadata": {
        "id": "MyOeflhqqdHd"
      },
      "execution_count": null,
      "outputs": []
    },
    {
      "cell_type": "code",
      "source": [
        "image_datasets = {}\n",
        "image_datasets['train'] = datasets.ImageFolder(os.path.join(data_dir,'train'),transdorms = transforms['train'])\n",
        "image_datasets['val'] = datasets.ImageFolder(os.path.join(data_dir,'val'),transdorms = transforms['val'])"
      ],
      "metadata": {
        "id": "8enPkC0z0GEn"
      },
      "execution_count": null,
      "outputs": []
    },
    {
      "cell_type": "code",
      "source": [
        "data_loader = {}\n",
        "data_loader['train'] = DataLoader(image_datasets['train'],batch_size = 32,shuffle = True)\n",
        "data_loader['train'] = DataLoader(image_datasets['train'],batch_size = 32,shuffle = True)"
      ],
      "metadata": {
        "id": "JH1d-uUjtc4e"
      },
      "execution_count": null,
      "outputs": []
    },
    {
      "cell_type": "code",
      "source": [
        "model_feature = models.resnet18(pretrained=True)\n",
        "print (model)\n",
        "model_ftrs = model.dc.in_features\n",
        "model_fit = nn.Linear(model_ftrs,out_features = 2)\n",
        "criterian = nn.CrossEntropyLoss()\n",
        "optimizer = optime.Adam(model_ft.parameters(),lr = 0.0001)"
      ],
      "metadata": {
        "id": "uaQgzWug1CNk"
      },
      "execution_count": null,
      "outputs": []
    },
    {
      "cell_type": "code",
      "source": [
        "for epoch in range(2):\n",
        "    for inputs,label in data_loader['train']:\n",
        "    output = model(input)\n",
        "    loss = criterian(output,label)\n",
        "    loss.backward()\n",
        "    optimizer.step()\n",
        "    optimizer.zero_grad()\n",
        "  print(loss.item())"
      ],
      "metadata": {
        "id": "gZ_ie8Gj1XE-"
      },
      "execution_count": null,
      "outputs": []
    },
    {
      "cell_type": "code",
      "source": [
        "model.eval()\n",
        "with torch.no_grad():\n",
        "  correct = 0\n",
        "  total = 0\n",
        "  for input,label in data_loader['val']:\n",
        "    output = model(input)\n",
        "    _predicted = torch.max(output.data,1)\n",
        "    total += label.size(0)\n",
        "print('Accuracy: {}%'.format(100*(correct/total)))"
      ],
      "metadata": {
        "id": "gcYc3Hhq85Cp"
      },
      "execution_count": null,
      "outputs": []
    },
    {
      "cell_type": "code",
      "source": [],
      "metadata": {
        "id": "lguEwN3Y9scz"
      },
      "execution_count": null,
      "outputs": []
    }
  ]
}