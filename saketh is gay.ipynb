{
 "cells": [
  {
   "cell_type": "markdown",
   "id": "9a572aa3",
   "metadata": {},
   "source": [
    "Load Libraries"
   ]
  },
  {
   "cell_type": "code",
   "execution_count": 17,
   "id": "a4476563",
   "metadata": {},
   "outputs": [],
   "source": [
    "import torch\n",
    "import torch.nn as nn\n",
    "from torch.optim import optimizer\n",
    "from torchvision import datasets, transforms\n",
    "from torch.utils.data import DataLoader"
   ]
  },
  {
   "cell_type": "markdown",
   "id": "610351b7",
   "metadata": {},
   "source": [
    "Define Transformations"
   ]
  },
  {
   "cell_type": "code",
   "execution_count": null,
   "id": "acf80303",
   "metadata": {},
   "outputs": [],
   "source": [
    "transform = transforms.Compose([\n",
    "    transforms.ToTensor(),\n",
    "    transforms.Normalize(    (0.5,0.5,0.5),(0.5,0.5,0.5)     )\n",
    "])"
   ]
  },
  {
   "cell_type": "markdown",
   "id": "a39c65a0",
   "metadata": {},
   "source": [
    "Load the data"
   ]
  },
  {
   "cell_type": "code",
   "execution_count": 13,
   "id": "d2e4bb70",
   "metadata": {},
   "outputs": [
    {
     "name": "stderr",
     "output_type": "stream",
     "text": [
      "100.0%\n"
     ]
    }
   ],
   "source": [
    "train_data = datasets.CIFAR10(root = './data',\n",
    "                                    train = True,\n",
    "                                   download = True,\n",
    "                                   transform = transform)\n",
    "\n",
    "test_data = datasets.CIFAR10(root = './data',\n",
    "                                 train = False,\n",
    "                                 download = True,\n",
    "                                transform = transform)"
   ]
  },
  {
   "cell_type": "code",
   "execution_count": 16,
   "id": "a35a7c21",
   "metadata": {},
   "outputs": [],
   "source": [
    "train_loader = DataLoader(dataset = train_data , batch_size = 64 , shuffle = True)\n",
    "test_loader = DataLoader(dataset = train_data , batch_size = 64 , shuffle = False)"
   ]
  },
  {
   "cell_type": "markdown",
   "id": "1750af9d",
   "metadata": {},
   "source": [
    "Build the Architecture"
   ]
  },
  {
   "cell_type": "code",
   "execution_count": null,
   "id": "35a6deec",
   "metadata": {},
   "outputs": [],
   "source": [
    "class cnn_cifar(nn.Module):\n",
    "    def __init__(self):\n",
    "        super().__init__()\n",
    "        self.cnn1 = nn.Conv2d(3,6,3)\n",
    "        self.cnn2 = nn.Conv2d(6,16,5)\n",
    "        self.fc1 = nn.Linear(24*24*16)\n",
    "        self.fc2 = nn.Linear(120,84,10)\n",
    "        self.fc3 = nn.Linear(84,)"
   ]
  }
 ],
 "metadata": {
  "kernelspec": {
   "display_name": "venv",
   "language": "python",
   "name": "python3"
  },
  "language_info": {
   "codemirror_mode": {
    "name": "ipython",
    "version": 3
   },
   "file_extension": ".py",
   "mimetype": "text/x-python",
   "name": "python",
   "nbconvert_exporter": "python",
   "pygments_lexer": "ipython3",
   "version": "3.11.4"
  }
 },
 "nbformat": 4,
 "nbformat_minor": 5
}
