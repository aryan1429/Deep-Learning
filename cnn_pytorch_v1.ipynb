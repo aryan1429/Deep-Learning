{
 "cells": [
  {
   "cell_type": "markdown",
   "id": "9a572aa3",
   "metadata": {},
   "source": [
    "Load Libraries"
   ]
  },
  {
   "cell_type": "code",
   "execution_count": null,
   "id": "a4476563",
   "metadata": {},
   "outputs": [],
   "source": [
    "import torch\n",
    "import torch.nn as nn\n",
    "import torch.optim as optim\n",
    "from torchvision import datasets, transforms\n",
    "from torch.utils.data import DataLoader"
   ]
  },
  {
   "cell_type": "markdown",
   "id": "610351b7",
   "metadata": {},
   "source": [
    "Define Transformations"
   ]
  },
  {
   "cell_type": "code",
   "execution_count": 58,
   "id": "acf80303",
   "metadata": {},
   "outputs": [],
   "source": [
    "transform = transforms.Compose([\n",
    "    transforms.ToTensor(),\n",
    "    transforms.Normalize(    (0.5,0.5,0.5),(0.5,0.5,0.5)     )\n",
    "])"
   ]
  },
  {
   "cell_type": "markdown",
   "id": "a39c65a0",
   "metadata": {},
   "source": [
    "Load the data"
   ]
  },
  {
   "cell_type": "code",
   "execution_count": 59,
   "id": "d2e4bb70",
   "metadata": {},
   "outputs": [],
   "source": [
    "train_data = datasets.CIFAR10(root = './data',\n",
    "                                    train = True,\n",
    "                                   download = True,\n",
    "                                   transform = transform)\n",
    "\n",
    "test_data = datasets.CIFAR10(root = './data',\n",
    "                                 train = False,\n",
    "                                 download = True,\n",
    "                                transform = transform)"
   ]
  },
  {
   "cell_type": "code",
   "execution_count": 60,
   "id": "a35a7c21",
   "metadata": {},
   "outputs": [],
   "source": [
    "train_loader = DataLoader(dataset = train_data , batch_size = 64 , shuffle = True)\n",
    "test_loader = DataLoader(dataset = test_data , batch_size = 64 , shuffle = False)"
   ]
  },
  {
   "cell_type": "markdown",
   "id": "1750af9d",
   "metadata": {},
   "source": [
    "Build the Architecture"
   ]
  },
  {
   "cell_type": "code",
   "execution_count": 64,
   "id": "35a6deec",
   "metadata": {},
   "outputs": [],
   "source": [
    "class cnn_cifar(nn.Module):\n",
    "    def __init__(self):\n",
    "        super(cnn_cifar, self).__init__()\n",
    "        self.cnn1 = nn.Conv2d(3, 6, 3)\n",
    "       \n",
    "        self.cnn2 = nn.Conv2d(6, 16, 5)\n",
    "\n",
    "        self.fc1 = nn.Linear(5*5*16, 120)\n",
    "        self.fc2 = nn.Linear(120, 84)\n",
    "        self.fc3 = nn.Linear(84, 10)\n",
    "    def forward(self, x):\n",
    "        x = self.cnn1(x)\n",
    "        x = torch.relu(x)\n",
    "        x = torch.max_pool2d(x, 2)\n",
    "\n",
    "        x = self.cnn2(x)\n",
    "        x = torch.relu(x)\n",
    "        x = torch.max_pool2d(x, 2)\n",
    "        \n",
    "        # flatten\n",
    "        x = torch.flatten(x, 1)\n",
    "\n",
    "        x = self.fc1(x)\n",
    "        x = torch.relu(x)\n",
    "\n",
    "        x = self.fc2(x)\n",
    "        x = torch.relu(x)\n",
    "\n",
    "        x = self.fc3(x)\n",
    "\n",
    "        return x\n"
   ]
  },
  {
   "cell_type": "code",
   "execution_count": 65,
   "id": "ba659929",
   "metadata": {},
   "outputs": [],
   "source": [
    "model = cnn_cifar()\n",
    "criterion = nn.CrossEntropyLoss()\n",
    "optimizer = optim.Adam(model.parameters(),lr = 0.0001)"
   ]
  },
  {
   "cell_type": "markdown",
   "id": "570dca7c",
   "metadata": {},
   "source": [
    "Training"
   ]
  },
  {
   "cell_type": "code",
   "execution_count": 68,
   "id": "2a75f725",
   "metadata": {},
   "outputs": [
    {
     "name": "stdout",
     "output_type": "stream",
     "text": [
      "Epoch [1/10], loss : 0.9088\n",
      "Epoch [2/10], loss : 1.4356\n",
      "Epoch [3/10], loss : 1.1862\n",
      "Epoch [4/10], loss : 1.8830\n",
      "Epoch [5/10], loss : 1.9001\n",
      "Epoch [6/10], loss : 1.2759\n",
      "Epoch [7/10], loss : 0.8171\n",
      "Epoch [8/10], loss : 1.4523\n",
      "Epoch [9/10], loss : 1.1051\n",
      "Epoch [10/10], loss : 0.8543\n"
     ]
    }
   ],
   "source": [
    "for epoch in range(10):\n",
    "    for images, label in (train_loader):\n",
    "        optimizer.zero_grad()\n",
    "        outputs = model(images)\n",
    "        loss = criterion(outputs, label)\n",
    "        loss.backward()\n",
    "        optimizer.step()\n",
    "    print(f\"Epoch [{epoch + 1}/10], loss : {loss.item():.4f}\")\n",
    "        "
   ]
  },
  {
   "cell_type": "code",
   "execution_count": 70,
   "id": "b8a6bf3f",
   "metadata": {},
   "outputs": [
    {
     "name": "stdout",
     "output_type": "stream",
     "text": [
      "accuracy = 56.874\n"
     ]
    }
   ],
   "source": [
    "\n",
    "model.eval()\n",
    "correct = 0\n",
    "total = 0\n",
    "with torch.no_grad():\n",
    "    for images,labels in test_loader:\n",
    "        outputs = model(images)\n",
    "\n",
    "        _,predictions = torch.max(outputs,1)\n",
    "        correct += (predictions==labels).sum().item()\n",
    "        total += labels.size(0)\n",
    "print(f\"accuracy = {(correct/total)*100}\")\n",
    "#print(outputs[0].data)\n",
    "#print(type(outputs[0].data))"
   ]
  },
  {
   "cell_type": "code",
   "execution_count": null,
   "id": "9eeb95e5",
   "metadata": {},
   "outputs": [],
   "source": []
  }
 ],
 "metadata": {
  "kernelspec": {
   "display_name": "venv (3.11.4)",
   "language": "python",
   "name": "python3"
  },
  "language_info": {
   "codemirror_mode": {
    "name": "ipython",
    "version": 3
   },
   "file_extension": ".py",
   "mimetype": "text/x-python",
   "name": "python",
   "nbconvert_exporter": "python",
   "pygments_lexer": "ipython3",
   "version": "3.11.4"
  }
 },
 "nbformat": 4,
 "nbformat_minor": 5
}
